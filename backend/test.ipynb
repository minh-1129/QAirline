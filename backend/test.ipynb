{
 "cells": [
  {
   "cell_type": "code",
   "execution_count": 1,
   "metadata": {},
   "outputs": [],
   "source": [
    "import requests\n",
    "from datetime import datetime, timedelta, timezone\n",
    "from faker import Faker\n",
    "\n",
    "base_url = 'http://localhost:1803'\n",
    "api_base_url = f'{base_url}/api/v1'\n",
    "\n",
    "aircrafts_url = f'{api_base_url}/aircrafts'\n",
    "seats_url = f'{api_base_url}/seats'\n",
    "flights_url = f'{api_base_url}/flights'\n",
    "bookings_url = f'{api_base_url}/bookings'\n",
    "users_url = f'{api_base_url}/users'\n",
    "passengers_url = f'{api_base_url}/passengers'\n",
    "\n",
    "s = requests.Session()\n",
    "SEED = 18022004\n",
    "fake = Faker()\n",
    "Faker.seed(SEED)"
   ]
  },
  {
   "cell_type": "code",
   "execution_count": 2,
   "metadata": {},
   "outputs": [],
   "source": [
    "def post_stuff(url, data):\n",
    "    res = s.post(url, json = data)\n",
    "    # print(res.text)\n",
    "\n",
    "    return res.json()\n",
    "\n",
    "def get_stuff(url):\n",
    "    res = s.get(url)\n",
    "    # print(res.text)\n",
    "\n",
    "    return res.json()\n",
    "\n",
    "def put_stuff(url, data):\n",
    "    res = s.put(url, json = data)\n",
    "    # print(res.text)\n",
    "\n",
    "    return res.json()\n",
    "\n",
    "def delete_stuff(url):\n",
    "    res = s.delete(url)\n",
    "    # print(res.text)\n",
    "\n",
    "    return res.json()"
   ]
  },
  {
   "cell_type": "code",
   "execution_count": 3,
   "metadata": {},
   "outputs": [],
   "source": [
    "def create_aircraft():\n",
    "    data = {\n",
    "        'aircraft_manufacturer': fake.company(),\n",
    "        'aircraft_name': fake.word(),\n",
    "        'aircraft_model': fake.word(),\n",
    "        'aircraft_type': fake.word(),\n",
    "        'capacity': 40,\n",
    "    }\n",
    "\n",
    "    return data\n",
    "\n",
    "def create_flight():\n",
    "    data = {\n",
    "        'flight_number': f'QAL{fake.random_int(min = 100, max = 999)}',\n",
    "        'departure_airport': 'SGN',\n",
    "        'arrival_airport': 'HAN',\n",
    "        'departure_time': '',\n",
    "        'arrival_time': '',\n",
    "        'board_time': '',\n",
    "        'gate': fake.catch_phrase(),\n",
    "        'price': 0,\n",
    "        'status': 'upcoming',\n",
    "        'aircraft_id': 1,\n",
    "    }\n",
    "\n",
    "    return data"
   ]
  },
  {
   "cell_type": "code",
   "execution_count": 4,
   "metadata": {},
   "outputs": [],
   "source": [
    "post_stuff(aircrafts_url, create_aircraft())\n",
    "aircraft = post_stuff(aircrafts_url, create_aircraft())"
   ]
  },
  {
   "cell_type": "code",
   "execution_count": 5,
   "metadata": {},
   "outputs": [],
   "source": [
    "dep_flight = create_flight()\n",
    "ret_flight = create_flight()\n",
    "ret_flight['departure_airport'], ret_flight['arrival_airport'] = ret_flight['arrival_airport'], ret_flight['departure_airport']\n",
    "\n",
    "dep_flight['aircraft_id'] = aircraft['aircraft_id']\n",
    "ret_flight['aircraft_id'] = aircraft['aircraft_id']\n",
    "\n",
    "tz = timezone(timedelta(hours = 7))\n",
    "tz_hr = str(tz).strip('UTC')[:-3]\n",
    "tz_min = str(tz).strip('UTC')[-2:]\n",
    "year, month, day = 2024, 12, 22\n",
    "ret_year, ret_month, ret_day = 2024, 12, 28\n",
    "\n",
    "dep_flight['departure_time'] = datetime(year, month, day, 8, 0, 0, tzinfo = tz).isoformat()\n",
    "dep_flight['arrival_time'] = datetime(year, month, day, 10, 0, 0, tzinfo = tz).isoformat()\n",
    "dep_flight['board_time'] = datetime(year, month, day, 7, 20, 0, tzinfo = tz).isoformat()\n",
    "dep_flight['price'] = fake.random_int(min = 10000, max = 20000) / 100\n",
    "\n",
    "ret_flight['departure_time'] = datetime(ret_year, ret_month, ret_day, 15, 0, 0, tzinfo = tz).isoformat()\n",
    "ret_flight['arrival_time'] = datetime(ret_year, ret_month, ret_day, 17, 0, 0, tzinfo = tz).isoformat()\n",
    "ret_flight['board_time'] = datetime(ret_year, ret_month, ret_day, 14, 40, 0, tzinfo = tz).isoformat()\n",
    "ret_flight['price'] = fake.random_int(min = 10000, max = 20000) / 100"
   ]
  },
  {
   "cell_type": "code",
   "execution_count": 6,
   "metadata": {},
   "outputs": [],
   "source": [
    "dep_flights = []\n",
    "for i in range(3):\n",
    "    dep_flight['departure_time'] = datetime(year, month, day, 8 + i, 0, 0, tzinfo = tz).isoformat()\n",
    "    dep_flight['arrival_time'] = datetime(year, month, day, 10 + i, 0, 0, tzinfo = tz).isoformat()\n",
    "    dep_flight['board_time'] = datetime(year, month, day, 7 + i, 20, 0, tzinfo = tz).isoformat()\n",
    "    dep_flight['price'] = fake.random_int(min = 10000, max = 20000) / 100\n",
    "    resp = post_stuff(flights_url + '/withseats', dep_flight)\n",
    "\n",
    "    dep_flights.append(resp)\n",
    "\n",
    "ret_flights = []\n",
    "for i in range(3):\n",
    "    ret_flight['departure_time'] = datetime(ret_year, ret_month, ret_day, 15 + i, 0, 0, tzinfo = tz).isoformat()\n",
    "    ret_flight['arrival_time'] = datetime(ret_year, ret_month, ret_day, 17 + i, 0, 0, tzinfo = tz).isoformat()\n",
    "    ret_flight['board_time'] = datetime(ret_year, ret_month, ret_day, 14 + i, 40, 0, tzinfo = tz).isoformat()\n",
    "    ret_flight['price'] = fake.random_int(min = 10000, max = 20000) / 100\n",
    "    resp = post_stuff(flights_url + '/withseats', ret_flight)\n",
    "\n",
    "    ret_flights.append(resp)"
   ]
  },
  {
   "cell_type": "code",
   "execution_count": 7,
   "metadata": {},
   "outputs": [
    {
     "name": "stdout",
     "output_type": "stream",
     "text": [
      "{'booking_id': 1, 'flight_id': 1, 'citizen_id': '359-07-9203', 'first_name': 'Ashley', 'last_name': 'Johnson', 'phone_number': {'String': '624-207-9999x897', 'Valid': True}, 'email': {'String': 'jparker@example.com', 'Valid': True}, 'dob': '2024-12-21T22:21:13+07:00', 'total_passengers': 1, 'booking_date': '2024-12-21T22:21:13+07:00', 'total_price': 100}\n",
      "{'passenger_id': 1, 'booking_id': 1, 'seat_id': 1, 'citizen_id': {'String': '359-07-9203', 'Valid': True}, 'first_name': 'Ashley', 'last_name': 'Johnson', 'phone_number': {'String': '624-207-9999x897', 'Valid': True}, 'email': {'String': 'jparker@example.com', 'Valid': True}, 'dob': '2024-12-21T22:21:13+07:00', 'gender': 'male'}\n"
     ]
    }
   ],
   "source": [
    "booking_date = datetime.now(tz).replace(microsecond = 0).isoformat()\n",
    "booking = {\n",
    "    'flight_id': dep_flights[0]['flight']['flight_id'],\n",
    "    'first_name': fake.first_name(),\n",
    "    'last_name': fake.last_name(),\n",
    "    'citizen_id': fake.ssn(),\n",
    "    'email': {\n",
    "        'string': fake.email(),\n",
    "        'valid': True,\n",
    "    },\n",
    "    'phone_number': {\n",
    "        'string': fake.phone_number(),\n",
    "        'valid': True,\n",
    "    },\n",
    "    'dob': booking_date,\n",
    "    'booking_date': booking_date,\n",
    "    'status': 'upcoming',\n",
    "    'total_passengers': 1,\n",
    "    'total_price': 100,\n",
    "}\n",
    "\n",
    "booking = post_stuff(bookings_url, booking)\n",
    "print(booking)\n",
    "\n",
    "passenger = {\n",
    "    'booking_id': booking['booking_id'],\n",
    "    'first_name': booking['first_name'],\n",
    "    'last_name': booking['last_name'],\n",
    "    'citizen_id': {\n",
    "        'string': booking['citizen_id'],\n",
    "        'valid': True,\n",
    "    },\n",
    "    'dob': booking['dob'],\n",
    "    'gender': 'male',\n",
    "    'phone_number': booking['phone_number'],\n",
    "    'email': booking['email'],\n",
    "    'seat_id': dep_flights[0]['seats'][0]['seat_id'],\n",
    "}\n",
    "\n",
    "passenger = post_stuff(passengers_url, passenger)\n",
    "print(passenger)"
   ]
  },
  {
   "cell_type": "code",
   "execution_count": 8,
   "metadata": {},
   "outputs": [
    {
     "data": {
      "text/plain": [
       "{'passenger_id': 1,\n",
       " 'booking_id': 1,\n",
       " 'seat_id': 1,\n",
       " 'citizen_id': {'String': '359-07-9203', 'Valid': True},\n",
       " 'first_name': 'Ashley',\n",
       " 'last_name': 'Johnson',\n",
       " 'phone_number': {'String': '624-207-9999x897', 'Valid': True},\n",
       " 'email': {'String': 'jparker@example.com', 'Valid': True},\n",
       " 'dob': '2024-12-21T22:21:13+07:00',\n",
       " 'gender': 'male'}"
      ]
     },
     "execution_count": 8,
     "metadata": {},
     "output_type": "execute_result"
    }
   ],
   "source": [
    "passenger"
   ]
  }
 ],
 "metadata": {
  "kernelspec": {
   "display_name": "venv",
   "language": "python",
   "name": "python3"
  },
  "language_info": {
   "codemirror_mode": {
    "name": "ipython",
    "version": 3
   },
   "file_extension": ".py",
   "mimetype": "text/x-python",
   "name": "python",
   "nbconvert_exporter": "python",
   "pygments_lexer": "ipython3",
   "version": "3.12.7"
  }
 },
 "nbformat": 4,
 "nbformat_minor": 2
}
