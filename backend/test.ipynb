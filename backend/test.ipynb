{
 "cells": [
  {
   "cell_type": "code",
   "execution_count": 1,
   "metadata": {},
   "outputs": [],
   "source": [
    "import requests\n",
    "from datetime import datetime, timedelta, timezone\n",
    "from faker import Faker\n",
    "\n",
    "base_url = 'http://localhost:1803'\n",
    "api_base_url = f'{base_url}/api/v1'\n",
    "\n",
    "aircrafts_url = f'{api_base_url}/aircrafts'\n",
    "seats_url = f'{api_base_url}/seats'\n",
    "flights_url = f'{api_base_url}/flights'\n",
    "bookings_url = f'{api_base_url}/bookings'\n",
    "users_url = f'{api_base_url}/users'\n",
    "passengers_url = f'{api_base_url}/passengers'\n",
    "\n",
    "s = requests.Session()\n",
    "SEED = 18022004\n",
    "fake = Faker()\n",
    "Faker.seed(SEED)"
   ]
  },
  {
   "cell_type": "code",
   "execution_count": 2,
   "metadata": {},
   "outputs": [],
   "source": [
    "def post_stuff(url, data):\n",
    "    res = s.post(url, json = data)\n",
    "    # print(res.text)\n",
    "\n",
    "    return res.json()\n",
    "\n",
    "def get_stuff(url):\n",
    "    res = s.get(url)\n",
    "    # print(res.text)\n",
    "\n",
    "    return res.json()\n",
    "\n",
    "def put_stuff(url, data):\n",
    "    res = s.put(url, json = data)\n",
    "    # print(res.text)\n",
    "\n",
    "    return res.json()\n",
    "\n",
    "def delete_stuff(url):\n",
    "    res = s.delete(url)\n",
    "    # print(res.text)\n",
    "\n",
    "    return res.json()"
   ]
  },
  {
   "cell_type": "code",
   "execution_count": 3,
   "metadata": {},
   "outputs": [],
   "source": [
    "def create_aircraft():\n",
    "    data = {\n",
    "        'aircraft_manufacturer': fake.company(),\n",
    "        'aircraft_model': fake.word(),\n",
    "        'aircraft_type': fake.word(),\n",
    "        'capacity': 40,\n",
    "    }\n",
    "\n",
    "    return data\n",
    "\n",
    "def create_flight():\n",
    "    data = {\n",
    "        'flight_number': f'QAL{fake.random_int(min = 100, max = 999)}',\n",
    "        'departure_airport': 'SGN',\n",
    "        'arrival_airport': 'HAN',\n",
    "        'departure_time': '',\n",
    "        'arrival_time': '',\n",
    "        'board_time': '',\n",
    "        'gate': fake.catch_phrase(),\n",
    "        'price': 0,\n",
    "        'status': 'upcoming',\n",
    "        'aircraft_id': 1,\n",
    "    }\n",
    "\n",
    "    return data"
   ]
  },
  {
   "cell_type": "code",
   "execution_count": 4,
   "metadata": {},
   "outputs": [
    {
     "data": {
      "text/plain": [
       "{'aircraft_id': 2,\n",
       " 'aircraft_manufacturer': 'Elliott-Fleming',\n",
       " 'aircraft_type': 'free',\n",
       " 'aircraft_name': '',\n",
       " 'capacity': 40}"
      ]
     },
     "execution_count": 4,
     "metadata": {},
     "output_type": "execute_result"
    }
   ],
   "source": [
    "post_stuff(aircrafts_url, create_aircraft())\n",
    "post_stuff(aircrafts_url, create_aircraft())"
   ]
  },
  {
   "cell_type": "code",
   "execution_count": 5,
   "metadata": {},
   "outputs": [],
   "source": [
    "dep_flight = create_flight()\n",
    "ret_flight = create_flight()\n",
    "ret_flight['departure_airport'], ret_flight['arrival_airport'] = ret_flight['arrival_airport'], ret_flight['departure_airport']\n",
    "\n",
    "tz = timezone(timedelta(hours = 7))\n",
    "tz_hr = str(tz).strip('UTC')[:-3]\n",
    "tz_min = str(tz).strip('UTC')[-2:]\n",
    "year, month, day = 2024, 12, 22\n",
    "ret_year, ret_month, ret_day = 2024, 12, 28\n",
    "\n",
    "dep_flight['departure_time'] = datetime(year, month, day, 8, 0, 0, tzinfo = tz).isoformat()\n",
    "dep_flight['arrival_time'] = datetime(year, month, day, 10, 0, 0, tzinfo = tz).isoformat()\n",
    "dep_flight['board_time'] = datetime(year, month, day, 7, 20, 0, tzinfo = tz).isoformat()\n",
    "dep_flight['price'] = fake.random_int(min = 10000, max = 20000) / 100\n",
    "\n",
    "ret_flight['departure_time'] = datetime(ret_year, ret_month, ret_day, 15, 0, 0, tzinfo = tz).isoformat()\n",
    "ret_flight['arrival_time'] = datetime(ret_year, ret_month, ret_day, 17, 0, 0, tzinfo = tz).isoformat()\n",
    "ret_flight['board_time'] = datetime(ret_year, ret_month, ret_day, 14, 40, 0, tzinfo = tz).isoformat()\n",
    "ret_flight['price'] = fake.random_int(min = 10000, max = 20000) / 100"
   ]
  },
  {
   "cell_type": "code",
   "execution_count": 6,
   "metadata": {},
   "outputs": [],
   "source": [
    "dep_flights = []\n",
    "for i in range(3):\n",
    "    dep_flight['departure_time'] = datetime(year, month, day, 8 + i, 0, 0, tzinfo = tz).isoformat()\n",
    "    dep_flight['arrival_time'] = datetime(year, month, day, 10 + i, 0, 0, tzinfo = tz).isoformat()\n",
    "    dep_flight['board_time'] = datetime(year, month, day, 7 + i, 20, 0, tzinfo = tz).isoformat()\n",
    "    dep_flight['price'] = fake.random_int(min = 10000, max = 20000) / 100\n",
    "    resp = post_stuff(flights_url + '/withseats', dep_flight)\n",
    "\n",
    "    dep_flights.append(resp)\n",
    "\n",
    "ret_flights = []\n",
    "for i in range(3):\n",
    "    ret_flight['departure_time'] = datetime(ret_year, ret_month, ret_day, 15 + i, 0, 0, tzinfo = tz).isoformat()\n",
    "    ret_flight['arrival_time'] = datetime(ret_year, ret_month, ret_day, 17 + i, 0, 0, tzinfo = tz).isoformat()\n",
    "    ret_flight['board_time'] = datetime(ret_year, ret_month, ret_day, 14 + i, 40, 0, tzinfo = tz).isoformat()\n",
    "    ret_flight['price'] = fake.random_int(min = 10000, max = 20000) / 100\n",
    "    resp = post_stuff(flights_url + '/withseats', ret_flight)\n",
    "\n",
    "    ret_flights.append(resp)"
   ]
  },
  {
   "cell_type": "code",
   "execution_count": 7,
   "metadata": {},
   "outputs": [
    {
     "data": {
      "text/plain": [
       "'2024-12-21T19:53:09+07:00'"
      ]
     },
     "execution_count": 7,
     "metadata": {},
     "output_type": "execute_result"
    }
   ],
   "source": [
    "booking_date = datetime.now(tz).replace(microsecond = 0).isoformat()\n",
    "booking = {\n",
    "    'flight_id': 1,\n",
    "    'user_id': 1,\n",
    "    'passenger_id': 1,\n",
    "    'seat_id': 1,\n",
    "    'booking_time': booking_date,\n",
    "    'status': 'upcoming',\n",
    "}\n",
    "\n",
    "booking['booking_time']"
   ]
  }
 ],
 "metadata": {
  "kernelspec": {
   "display_name": "venv",
   "language": "python",
   "name": "python3"
  },
  "language_info": {
   "codemirror_mode": {
    "name": "ipython",
    "version": 3
   },
   "file_extension": ".py",
   "mimetype": "text/x-python",
   "name": "python",
   "nbconvert_exporter": "python",
   "pygments_lexer": "ipython3",
   "version": "3.12.7"
  }
 },
 "nbformat": 4,
 "nbformat_minor": 2
}
